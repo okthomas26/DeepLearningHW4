{
 "cells": [
  {
   "cell_type": "code",
   "execution_count": 1,
   "id": "07aa58b0-2eda-41b7-844f-4fda32cf56b8",
   "metadata": {
    "tags": []
   },
   "outputs": [],
   "source": [
    "import random\n",
    "import numpy as np\n",
    "import torch\n",
    "import torch.nn as nn\n",
    "import torch.optim as optim\n",
    "import torchvision.utils as vutils\n",
    "from tqdm import tqdm\n",
    "from torch.utils.data import DataLoader\n",
    "from torchvision.datasets import CIFAR10\n",
    "from torchvision.transforms import transforms\n",
    "import matplotlib.pyplot as plt"
   ]
  },
  {
   "cell_type": "code",
   "execution_count": 2,
   "id": "522e8ca6-51cb-4081-8f4c-ea59bdfda86f",
   "metadata": {
    "tags": []
   },
   "outputs": [
    {
     "name": "stdout",
     "output_type": "stream",
     "text": [
      "Files already downloaded and verified\n"
     ]
    }
   ],
   "source": [
    "# Random seed for reproducibility\n",
    "def set_seed(seed):\n",
    "    random.seed(seed)\n",
    "    np.random.seed(seed)\n",
    "    torch.manual_seed(seed)\n",
    "    torch.cuda.manual_seed(seed)\n",
    "    torch.cuda.manual_seed_all(seed)\n",
    "    torch.backends.cudnn.deterministic = True\n",
    "    torch.backends.cudnn.benchmark = False\n",
    "\n",
    "set_seed(52)\n",
    "\n",
    "# Hyperparameters\n",
    "batch_size = 64\n",
    "lr = 0.0002\n",
    "wlr = 5e-5\n",
    "beta1 = 0.5\n",
    "num_epochs = 50\n",
    "latent_dim = 100\n",
    "device = torch.device(\"cuda\" if torch.cuda.is_available() else \"cpu\")\n",
    "\n",
    "# Data Preparation\n",
    "transform = transforms.Compose([\n",
    "    transforms.Resize(32),\n",
    "    transforms.ToTensor(),\n",
    "    transforms.Normalize((0.5, 0.5, 0.5), (0.5, 0.5, 0.5))  # Normalize to [-1, 1]\n",
    "])\n",
    "\n",
    "dataset = CIFAR10(root='./data', download=True, transform=transform)\n",
    "dataloader = DataLoader(dataset, batch_size=batch_size, shuffle=True, generator=torch.Generator().manual_seed(42))\n"
   ]
  },
  {
   "cell_type": "code",
   "execution_count": 3,
   "id": "5fc3c1aa-6bc2-4cc7-b439-8936d4e1e7f9",
   "metadata": {
    "tags": []
   },
   "outputs": [],
   "source": [
    "# Initialization function for weights\n",
    "def weights_init(m):\n",
    "    classname = m.__class__.__name__\n",
    "    if classname.find('Conv') != -1:\n",
    "        nn.init.normal_(m.weight.data, 0.0, 0.02)\n",
    "    elif classname.find('BatchNorm') != -1:\n",
    "        nn.init.normal_(m.weight.data, 1.0, 0.02)\n",
    "        nn.init.constant_(m.bias.data, 0)\n",
    "\n",
    "# DCGAN Generator\n",
    "class DCGAN_Generator(nn.Module):\n",
    "    def __init__(self):\n",
    "        super(DCGAN_Generator, self).__init__()\n",
    "        self.main = nn.Sequential(\n",
    "            nn.ConvTranspose2d(latent_dim, 512, 4, 1, 0, bias=False),\n",
    "            nn.BatchNorm2d(512),\n",
    "            nn.ReLU(True),\n",
    "            nn.ConvTranspose2d(512, 256, 4, 2, 1, bias=False),\n",
    "            nn.BatchNorm2d(256),\n",
    "            nn.ReLU(True),\n",
    "            nn.ConvTranspose2d(256, 128, 4, 2, 1, bias=False),\n",
    "            nn.BatchNorm2d(128),\n",
    "            nn.ReLU(True),\n",
    "            nn.ConvTranspose2d(128, 3, 4, 2, 1, bias=False),\n",
    "            nn.Tanh()\n",
    "        )\n",
    "\n",
    "    def forward(self, input):\n",
    "        return self.main(input)\n",
    "\n",
    "# DCGAN Discriminator\n",
    "class DCGAN_Discriminator(nn.Module):\n",
    "    def __init__(self):\n",
    "        super(DCGAN_Discriminator, self).__init__()\n",
    "        self.main = nn.Sequential(\n",
    "            # Input: (3) x 32 x 32\n",
    "            nn.Conv2d(3, 64, kernel_size=4, stride=2, padding=1, bias=False),  # Output: (64) x 16 x 16\n",
    "            nn.LeakyReLU(0.2, inplace=True),\n",
    "            nn.Conv2d(64, 128, kernel_size=4, stride=2, padding=1, bias=False),  # Output: (128) x 8 x 8\n",
    "            nn.BatchNorm2d(128),\n",
    "            nn.LeakyReLU(0.2, inplace=True),\n",
    "            nn.Conv2d(128, 256, kernel_size=4, stride=2, padding=1, bias=False),  # Output: (256) x 4 x 4\n",
    "            nn.BatchNorm2d(256),\n",
    "            nn.LeakyReLU(0.2, inplace=True),\n",
    "            nn.Conv2d(256, 1, kernel_size=4, stride=1, padding=0, bias=False),  # Output: (1) x 1 x 1\n",
    "            nn.Sigmoid()\n",
    "        )\n",
    "\n",
    "    def forward(self, input):\n",
    "        return self.main(input).view(-1)  # Flatten the output to a single score\n",
    "\n",
    "\n",
    "\n",
    "# WGAN Generator\n",
    "class WGAN_Generator(nn.Module):\n",
    "    def __init__(self):\n",
    "        super(WGAN_Generator, self).__init__()\n",
    "        self.main = nn.Sequential(\n",
    "            nn.ConvTranspose2d(latent_dim, 512, 4, 1, 0, bias=False),\n",
    "            nn.BatchNorm2d(512),\n",
    "            nn.ReLU(True),\n",
    "            nn.ConvTranspose2d(512, 256, 4, 2, 1, bias=False),\n",
    "            nn.BatchNorm2d(256),\n",
    "            nn.ReLU(True),\n",
    "            nn.ConvTranspose2d(256, 128, 4, 2, 1, bias=False),\n",
    "            nn.BatchNorm2d(128),\n",
    "            nn.ReLU(True),\n",
    "            nn.ConvTranspose2d(128, 3, 4, 2, 1, bias=False),\n",
    "            nn.Tanh()\n",
    "        )\n",
    "\n",
    "    def forward(self, input):\n",
    "        return self.main(input)\n",
    "\n",
    "# Define WGAN Discriminator (Critic)\n",
    "class WGAN_Discriminator(nn.Module):\n",
    "    def __init__(self):\n",
    "        super(WGAN_Discriminator, self).__init__()\n",
    "        self.main = nn.Sequential(\n",
    "            nn.Conv2d(3, 64, 4, 2, 1, bias=False),\n",
    "            nn.LeakyReLU(0.2, inplace=True),\n",
    "            nn.Conv2d(64, 128, 4, 2, 1, bias=False),\n",
    "            nn.BatchNorm2d(128),\n",
    "            nn.LeakyReLU(0.2, inplace=True),\n",
    "            nn.Conv2d(128, 256, 4, 2, 1, bias=False),\n",
    "            nn.BatchNorm2d(256),\n",
    "            nn.LeakyReLU(0.2, inplace=True),\n",
    "            nn.Conv2d(256, 512, 4, 2, 1, bias=False),\n",
    "            nn.BatchNorm2d(512),\n",
    "            nn.LeakyReLU(0.2, inplace=True),\n",
    "            nn.Conv2d(512, 1, 4, 1, 0, bias=False)\n",
    "        )\n",
    "\n",
    "    def forward(self, input):\n",
    "        return self.main(input)\n",
    "\n",
    "\n",
    "class WGAN_Discriminator(nn.Module):\n",
    "    def __init__(self):\n",
    "        super(WGAN_Discriminator, self).__init__()\n",
    "        self.main = nn.Sequential(\n",
    "            nn.Conv2d(3, 64, 4, 2, 1),  \n",
    "            nn.LeakyReLU(0.2, inplace=True),\n",
    "            nn.Conv2d(64, 128, 4, 2, 1),\n",
    "            nn.LeakyReLU(0.2, inplace=True),\n",
    "            nn.Conv2d(128, 256, 4, 2, 1),\n",
    "            nn.LeakyReLU(0.2, inplace=True),\n",
    "            nn.Conv2d(256, 1, 4, 1, 0),  # Final output size = 1\n",
    "        )\n",
    "    \n",
    "    def forward(self, input):\n",
    "        return self.main(input)\n"
   ]
  },
  {
   "cell_type": "code",
   "execution_count": 4,
   "id": "cf4fffcb-3f8c-4719-afa8-0ce46603b2a6",
   "metadata": {
    "tags": []
   },
   "outputs": [],
   "source": [
    "# Initialize models\n",
    "dcgan_G = DCGAN_Generator().to(device)\n",
    "dcgan_D = DCGAN_Discriminator().to(device)\n",
    "wgan_G = WGAN_Generator().to(device)\n",
    "wgan_D = WGAN_Discriminator().to(device)\n",
    "\n",
    "dcgan_G.apply(weights_init)\n",
    "dcgan_D.apply(weights_init)\n",
    "wgan_G.apply(weights_init)\n",
    "wgan_D.apply(weights_init)\n",
    "\n",
    "# DCGAN optimizers and loss\n",
    "criterion = nn.BCELoss()\n",
    "dcgan_optimizerD = optim.Adam(dcgan_D.parameters(), lr=lr, betas=(beta1, 0.999))\n",
    "dcgan_optimizerG = optim.Adam(dcgan_G.parameters(), lr=lr, betas=(beta1, 0.999))\n",
    "\n",
    "# WGAN optimizers\n",
    "wgan_optimizerD = optim.RMSprop(wgan_D.parameters(), lr=wlr)\n",
    "wgan_optimizerG = optim.RMSprop(wgan_G.parameters(), lr=wlr)\n",
    "\n"
   ]
  },
  {
   "cell_type": "code",
   "execution_count": 5,
   "id": "f27a82d7-f9ad-4349-8364-9f3a38d2e898",
   "metadata": {
    "tags": []
   },
   "outputs": [
    {
     "name": "stdout",
     "output_type": "stream",
     "text": [
      "Starting Training...\n"
     ]
    },
    {
     "name": "stderr",
     "output_type": "stream",
     "text": [
      "Epoch 1/50: 100%|██████████| 782/782 [00:14<00:00, 55.31it/s, DCGAN_D=0.58, DCGAN_G=4, WGAN_D=-11.1, WGAN_G=-8.01]       \n"
     ]
    },
    {
     "name": "stdout",
     "output_type": "stream",
     "text": [
      "Epoch [1/50] DCGAN_D Loss: 0.5796, DCGAN_G Loss: 3.9983, WGAN_D Loss: -11.0850, WGAN_G Loss: -8.0111\n"
     ]
    },
    {
     "name": "stderr",
     "output_type": "stream",
     "text": [
      "Epoch 2/50: 100%|██████████| 782/782 [00:13<00:00, 57.75it/s, DCGAN_D=0.639, DCGAN_G=3, WGAN_D=-11.9, WGAN_G=-4.68]     \n"
     ]
    },
    {
     "name": "stdout",
     "output_type": "stream",
     "text": [
      "Epoch [2/50] DCGAN_D Loss: 0.6390, DCGAN_G Loss: 3.0011, WGAN_D Loss: -11.9172, WGAN_G Loss: -4.6833\n"
     ]
    },
    {
     "name": "stderr",
     "output_type": "stream",
     "text": [
      "Epoch 3/50: 100%|██████████| 782/782 [00:13<00:00, 57.81it/s, DCGAN_D=0.697, DCGAN_G=2.6, WGAN_D=-4.81, WGAN_G=-4.6]   \n"
     ]
    },
    {
     "name": "stdout",
     "output_type": "stream",
     "text": [
      "Epoch [3/50] DCGAN_D Loss: 0.6967, DCGAN_G Loss: 2.5993, WGAN_D Loss: -4.8085, WGAN_G Loss: -4.6040\n"
     ]
    },
    {
     "name": "stderr",
     "output_type": "stream",
     "text": [
      "Epoch 4/50: 100%|██████████| 782/782 [00:13<00:00, 58.13it/s, DCGAN_D=0.86, DCGAN_G=2.21, WGAN_D=-1.61, WGAN_G=-1.05]  \n"
     ]
    },
    {
     "name": "stdout",
     "output_type": "stream",
     "text": [
      "Epoch [4/50] DCGAN_D Loss: 0.8599, DCGAN_G Loss: 2.2069, WGAN_D Loss: -1.6131, WGAN_G Loss: -1.0499\n"
     ]
    },
    {
     "name": "stderr",
     "output_type": "stream",
     "text": [
      "Epoch 5/50: 100%|██████████| 782/782 [00:13<00:00, 58.14it/s, DCGAN_D=0.866, DCGAN_G=2.03, WGAN_D=-1.34, WGAN_G=-0.34]  \n"
     ]
    },
    {
     "name": "stdout",
     "output_type": "stream",
     "text": [
      "Epoch [5/50] DCGAN_D Loss: 0.8664, DCGAN_G Loss: 2.0313, WGAN_D Loss: -1.3384, WGAN_G Loss: -0.3396\n"
     ]
    },
    {
     "name": "stderr",
     "output_type": "stream",
     "text": [
      "Epoch 6/50: 100%|██████████| 782/782 [00:13<00:00, 57.90it/s, DCGAN_D=0.888, DCGAN_G=2.01, WGAN_D=-0.885, WGAN_G=-0.435]\n"
     ]
    },
    {
     "name": "stdout",
     "output_type": "stream",
     "text": [
      "Epoch [6/50] DCGAN_D Loss: 0.8884, DCGAN_G Loss: 2.0101, WGAN_D Loss: -0.8851, WGAN_G Loss: -0.4350\n"
     ]
    },
    {
     "name": "stderr",
     "output_type": "stream",
     "text": [
      "Epoch 7/50: 100%|██████████| 782/782 [00:13<00:00, 57.76it/s, DCGAN_D=0.838, DCGAN_G=1.99, WGAN_D=-0.488, WGAN_G=-0.328]  \n"
     ]
    },
    {
     "name": "stdout",
     "output_type": "stream",
     "text": [
      "Epoch [7/50] DCGAN_D Loss: 0.8376, DCGAN_G Loss: 1.9912, WGAN_D Loss: -0.4879, WGAN_G Loss: -0.3279\n"
     ]
    },
    {
     "name": "stderr",
     "output_type": "stream",
     "text": [
      "Epoch 8/50: 100%|██████████| 782/782 [00:13<00:00, 57.75it/s, DCGAN_D=0.864, DCGAN_G=1.97, WGAN_D=-0.435, WGAN_G=-0.206] \n"
     ]
    },
    {
     "name": "stdout",
     "output_type": "stream",
     "text": [
      "Epoch [8/50] DCGAN_D Loss: 0.8639, DCGAN_G Loss: 1.9731, WGAN_D Loss: -0.4352, WGAN_G Loss: -0.2059\n"
     ]
    },
    {
     "name": "stderr",
     "output_type": "stream",
     "text": [
      "Epoch 9/50: 100%|██████████| 782/782 [00:13<00:00, 57.80it/s, DCGAN_D=0.876, DCGAN_G=1.91, WGAN_D=-0.785, WGAN_G=-1.3]  \n"
     ]
    },
    {
     "name": "stdout",
     "output_type": "stream",
     "text": [
      "Epoch [9/50] DCGAN_D Loss: 0.8759, DCGAN_G Loss: 1.9069, WGAN_D Loss: -0.7845, WGAN_G Loss: -1.3042\n"
     ]
    },
    {
     "name": "stderr",
     "output_type": "stream",
     "text": [
      "Epoch 10/50: 100%|██████████| 782/782 [00:13<00:00, 58.01it/s, DCGAN_D=0.897, DCGAN_G=1.91, WGAN_D=-0.83, WGAN_G=-0.156] \n"
     ]
    },
    {
     "name": "stdout",
     "output_type": "stream",
     "text": [
      "Epoch [10/50] DCGAN_D Loss: 0.8973, DCGAN_G Loss: 1.9059, WGAN_D Loss: -0.8301, WGAN_G Loss: -0.1564\n"
     ]
    },
    {
     "name": "stderr",
     "output_type": "stream",
     "text": [
      "Epoch 11/50: 100%|██████████| 782/782 [00:13<00:00, 58.03it/s, DCGAN_D=0.906, DCGAN_G=1.87, WGAN_D=-1.09, WGAN_G=1.88]   \n"
     ]
    },
    {
     "name": "stdout",
     "output_type": "stream",
     "text": [
      "Epoch [11/50] DCGAN_D Loss: 0.9060, DCGAN_G Loss: 1.8685, WGAN_D Loss: -1.0859, WGAN_G Loss: 1.8844\n"
     ]
    },
    {
     "name": "stderr",
     "output_type": "stream",
     "text": [
      "Epoch 12/50: 100%|██████████| 782/782 [00:13<00:00, 57.91it/s, DCGAN_D=0.902, DCGAN_G=1.88, WGAN_D=-1.45, WGAN_G=1.27]\n"
     ]
    },
    {
     "name": "stdout",
     "output_type": "stream",
     "text": [
      "Epoch [12/50] DCGAN_D Loss: 0.9019, DCGAN_G Loss: 1.8755, WGAN_D Loss: -1.4541, WGAN_G Loss: 1.2670\n"
     ]
    },
    {
     "name": "stderr",
     "output_type": "stream",
     "text": [
      "Epoch 13/50: 100%|██████████| 782/782 [00:13<00:00, 57.87it/s, DCGAN_D=0.886, DCGAN_G=1.89, WGAN_D=-1.22, WGAN_G=-0.169]  \n"
     ]
    },
    {
     "name": "stdout",
     "output_type": "stream",
     "text": [
      "Epoch [13/50] DCGAN_D Loss: 0.8860, DCGAN_G Loss: 1.8890, WGAN_D Loss: -1.2183, WGAN_G Loss: -0.1693\n"
     ]
    },
    {
     "name": "stderr",
     "output_type": "stream",
     "text": [
      "Epoch 14/50: 100%|██████████| 782/782 [00:13<00:00, 57.87it/s, DCGAN_D=0.896, DCGAN_G=1.91, WGAN_D=-1.22, WGAN_G=-0.587]\n"
     ]
    },
    {
     "name": "stdout",
     "output_type": "stream",
     "text": [
      "Epoch [14/50] DCGAN_D Loss: 0.8958, DCGAN_G Loss: 1.9096, WGAN_D Loss: -1.2239, WGAN_G Loss: -0.5868\n"
     ]
    },
    {
     "name": "stderr",
     "output_type": "stream",
     "text": [
      "Epoch 15/50: 100%|██████████| 782/782 [00:13<00:00, 57.85it/s, DCGAN_D=0.871, DCGAN_G=1.91, WGAN_D=-1.15, WGAN_G=-0.407]\n"
     ]
    },
    {
     "name": "stdout",
     "output_type": "stream",
     "text": [
      "Epoch [15/50] DCGAN_D Loss: 0.8713, DCGAN_G Loss: 1.9102, WGAN_D Loss: -1.1537, WGAN_G Loss: -0.4068\n"
     ]
    },
    {
     "name": "stderr",
     "output_type": "stream",
     "text": [
      "Epoch 16/50: 100%|██████████| 782/782 [00:13<00:00, 58.22it/s, DCGAN_D=0.882, DCGAN_G=1.93, WGAN_D=-1.02, WGAN_G=-0.434]  \n"
     ]
    },
    {
     "name": "stdout",
     "output_type": "stream",
     "text": [
      "Epoch [16/50] DCGAN_D Loss: 0.8823, DCGAN_G Loss: 1.9271, WGAN_D Loss: -1.0175, WGAN_G Loss: -0.4338\n"
     ]
    },
    {
     "name": "stderr",
     "output_type": "stream",
     "text": [
      "Epoch 17/50: 100%|██████████| 782/782 [00:13<00:00, 57.94it/s, DCGAN_D=0.875, DCGAN_G=1.93, WGAN_D=-1.02, WGAN_G=-0.644] \n"
     ]
    },
    {
     "name": "stdout",
     "output_type": "stream",
     "text": [
      "Epoch [17/50] DCGAN_D Loss: 0.8747, DCGAN_G Loss: 1.9275, WGAN_D Loss: -1.0244, WGAN_G Loss: -0.6440\n"
     ]
    },
    {
     "name": "stderr",
     "output_type": "stream",
     "text": [
      "Epoch 18/50: 100%|██████████| 782/782 [00:13<00:00, 57.80it/s, DCGAN_D=0.853, DCGAN_G=1.97, WGAN_D=-0.992, WGAN_G=-0.445]\n"
     ]
    },
    {
     "name": "stdout",
     "output_type": "stream",
     "text": [
      "Epoch [18/50] DCGAN_D Loss: 0.8534, DCGAN_G Loss: 1.9662, WGAN_D Loss: -0.9921, WGAN_G Loss: -0.4448\n"
     ]
    },
    {
     "name": "stderr",
     "output_type": "stream",
     "text": [
      "Epoch 19/50: 100%|██████████| 782/782 [00:13<00:00, 57.76it/s, DCGAN_D=0.851, DCGAN_G=1.98, WGAN_D=-0.957, WGAN_G=-0.277]\n"
     ]
    },
    {
     "name": "stdout",
     "output_type": "stream",
     "text": [
      "Epoch [19/50] DCGAN_D Loss: 0.8506, DCGAN_G Loss: 1.9787, WGAN_D Loss: -0.9574, WGAN_G Loss: -0.2771\n"
     ]
    },
    {
     "name": "stderr",
     "output_type": "stream",
     "text": [
      "Epoch 20/50: 100%|██████████| 782/782 [00:13<00:00, 57.70it/s, DCGAN_D=0.836, DCGAN_G=2.01, WGAN_D=-0.846, WGAN_G=-0.798]\n"
     ]
    },
    {
     "name": "stdout",
     "output_type": "stream",
     "text": [
      "Epoch [20/50] DCGAN_D Loss: 0.8356, DCGAN_G Loss: 2.0116, WGAN_D Loss: -0.8465, WGAN_G Loss: -0.7984\n"
     ]
    },
    {
     "name": "stderr",
     "output_type": "stream",
     "text": [
      "Epoch 21/50: 100%|██████████| 782/782 [00:13<00:00, 57.78it/s, DCGAN_D=0.818, DCGAN_G=2.02, WGAN_D=-0.721, WGAN_G=-1.27]\n"
     ]
    },
    {
     "name": "stdout",
     "output_type": "stream",
     "text": [
      "Epoch [21/50] DCGAN_D Loss: 0.8184, DCGAN_G Loss: 2.0179, WGAN_D Loss: -0.7207, WGAN_G Loss: -1.2725\n"
     ]
    },
    {
     "name": "stderr",
     "output_type": "stream",
     "text": [
      "Epoch 22/50: 100%|██████████| 782/782 [00:13<00:00, 57.79it/s, DCGAN_D=0.844, DCGAN_G=2.05, WGAN_D=-0.752, WGAN_G=-1.49]\n"
     ]
    },
    {
     "name": "stdout",
     "output_type": "stream",
     "text": [
      "Epoch [22/50] DCGAN_D Loss: 0.8438, DCGAN_G Loss: 2.0511, WGAN_D Loss: -0.7516, WGAN_G Loss: -1.4929\n"
     ]
    },
    {
     "name": "stderr",
     "output_type": "stream",
     "text": [
      "Epoch 23/50: 100%|██████████| 782/782 [00:13<00:00, 57.75it/s, DCGAN_D=0.791, DCGAN_G=2.08, WGAN_D=-0.795, WGAN_G=-0.891]\n"
     ]
    },
    {
     "name": "stdout",
     "output_type": "stream",
     "text": [
      "Epoch [23/50] DCGAN_D Loss: 0.7910, DCGAN_G Loss: 2.0817, WGAN_D Loss: -0.7951, WGAN_G Loss: -0.8905\n"
     ]
    },
    {
     "name": "stderr",
     "output_type": "stream",
     "text": [
      "Epoch 24/50: 100%|██████████| 782/782 [00:13<00:00, 57.79it/s, DCGAN_D=0.785, DCGAN_G=2.11, WGAN_D=-0.745, WGAN_G=-0.387]\n"
     ]
    },
    {
     "name": "stdout",
     "output_type": "stream",
     "text": [
      "Epoch [24/50] DCGAN_D Loss: 0.7851, DCGAN_G Loss: 2.1074, WGAN_D Loss: -0.7447, WGAN_G Loss: -0.3872\n"
     ]
    },
    {
     "name": "stderr",
     "output_type": "stream",
     "text": [
      "Epoch 25/50: 100%|██████████| 782/782 [00:13<00:00, 57.85it/s, DCGAN_D=0.782, DCGAN_G=2.14, WGAN_D=-0.697, WGAN_G=-0.867]\n"
     ]
    },
    {
     "name": "stdout",
     "output_type": "stream",
     "text": [
      "Epoch [25/50] DCGAN_D Loss: 0.7816, DCGAN_G Loss: 2.1423, WGAN_D Loss: -0.6969, WGAN_G Loss: -0.8666\n"
     ]
    },
    {
     "name": "stderr",
     "output_type": "stream",
     "text": [
      "Epoch 26/50: 100%|██████████| 782/782 [00:13<00:00, 57.80it/s, DCGAN_D=0.776, DCGAN_G=2.15, WGAN_D=-0.584, WGAN_G=-0.894]\n"
     ]
    },
    {
     "name": "stdout",
     "output_type": "stream",
     "text": [
      "Epoch [26/50] DCGAN_D Loss: 0.7764, DCGAN_G Loss: 2.1500, WGAN_D Loss: -0.5838, WGAN_G Loss: -0.8938\n"
     ]
    },
    {
     "name": "stderr",
     "output_type": "stream",
     "text": [
      "Epoch 27/50: 100%|██████████| 782/782 [00:13<00:00, 57.78it/s, DCGAN_D=0.755, DCGAN_G=2.18, WGAN_D=-0.617, WGAN_G=-0.274]\n"
     ]
    },
    {
     "name": "stdout",
     "output_type": "stream",
     "text": [
      "Epoch [27/50] DCGAN_D Loss: 0.7552, DCGAN_G Loss: 2.1817, WGAN_D Loss: -0.6165, WGAN_G Loss: -0.2738\n"
     ]
    },
    {
     "name": "stderr",
     "output_type": "stream",
     "text": [
      "Epoch 28/50: 100%|██████████| 782/782 [00:13<00:00, 57.73it/s, DCGAN_D=0.752, DCGAN_G=2.22, WGAN_D=-0.507, WGAN_G=-0.231]  \n"
     ]
    },
    {
     "name": "stdout",
     "output_type": "stream",
     "text": [
      "Epoch [28/50] DCGAN_D Loss: 0.7517, DCGAN_G Loss: 2.2241, WGAN_D Loss: -0.5065, WGAN_G Loss: -0.2311\n"
     ]
    },
    {
     "name": "stderr",
     "output_type": "stream",
     "text": [
      "Epoch 29/50: 100%|██████████| 782/782 [00:13<00:00, 57.74it/s, DCGAN_D=0.729, DCGAN_G=2.25, WGAN_D=-0.491, WGAN_G=-0.888]\n"
     ]
    },
    {
     "name": "stdout",
     "output_type": "stream",
     "text": [
      "Epoch [29/50] DCGAN_D Loss: 0.7289, DCGAN_G Loss: 2.2516, WGAN_D Loss: -0.4910, WGAN_G Loss: -0.8882\n"
     ]
    },
    {
     "name": "stderr",
     "output_type": "stream",
     "text": [
      "Epoch 30/50: 100%|██████████| 782/782 [00:13<00:00, 57.84it/s, DCGAN_D=0.734, DCGAN_G=2.26, WGAN_D=-0.469, WGAN_G=-0.94] \n"
     ]
    },
    {
     "name": "stdout",
     "output_type": "stream",
     "text": [
      "Epoch [30/50] DCGAN_D Loss: 0.7340, DCGAN_G Loss: 2.2565, WGAN_D Loss: -0.4687, WGAN_G Loss: -0.9396\n"
     ]
    },
    {
     "name": "stderr",
     "output_type": "stream",
     "text": [
      "Epoch 31/50: 100%|██████████| 782/782 [00:13<00:00, 57.79it/s, DCGAN_D=0.742, DCGAN_G=2.28, WGAN_D=-0.456, WGAN_G=-1.33] \n"
     ]
    },
    {
     "name": "stdout",
     "output_type": "stream",
     "text": [
      "Epoch [31/50] DCGAN_D Loss: 0.7418, DCGAN_G Loss: 2.2824, WGAN_D Loss: -0.4556, WGAN_G Loss: -1.3337\n"
     ]
    },
    {
     "name": "stderr",
     "output_type": "stream",
     "text": [
      "Epoch 32/50: 100%|██████████| 782/782 [00:13<00:00, 57.76it/s, DCGAN_D=0.727, DCGAN_G=2.32, WGAN_D=-0.413, WGAN_G=-1.79]\n"
     ]
    },
    {
     "name": "stdout",
     "output_type": "stream",
     "text": [
      "Epoch [32/50] DCGAN_D Loss: 0.7271, DCGAN_G Loss: 2.3237, WGAN_D Loss: -0.4133, WGAN_G Loss: -1.7902\n"
     ]
    },
    {
     "name": "stderr",
     "output_type": "stream",
     "text": [
      "Epoch 33/50: 100%|██████████| 782/782 [00:13<00:00, 57.71it/s, DCGAN_D=0.699, DCGAN_G=2.35, WGAN_D=-0.377, WGAN_G=-2.41]\n"
     ]
    },
    {
     "name": "stdout",
     "output_type": "stream",
     "text": [
      "Epoch [33/50] DCGAN_D Loss: 0.6995, DCGAN_G Loss: 2.3455, WGAN_D Loss: -0.3772, WGAN_G Loss: -2.4142\n"
     ]
    },
    {
     "name": "stderr",
     "output_type": "stream",
     "text": [
      "Epoch 34/50: 100%|██████████| 782/782 [00:13<00:00, 57.74it/s, DCGAN_D=0.693, DCGAN_G=2.37, WGAN_D=-0.344, WGAN_G=-2.43]\n"
     ]
    },
    {
     "name": "stdout",
     "output_type": "stream",
     "text": [
      "Epoch [34/50] DCGAN_D Loss: 0.6932, DCGAN_G Loss: 2.3730, WGAN_D Loss: -0.3439, WGAN_G Loss: -2.4324\n"
     ]
    },
    {
     "name": "stderr",
     "output_type": "stream",
     "text": [
      "Epoch 35/50: 100%|██████████| 782/782 [00:13<00:00, 57.75it/s, DCGAN_D=0.657, DCGAN_G=2.42, WGAN_D=-0.331, WGAN_G=-2.42]\n"
     ]
    },
    {
     "name": "stdout",
     "output_type": "stream",
     "text": [
      "Epoch [35/50] DCGAN_D Loss: 0.6572, DCGAN_G Loss: 2.4208, WGAN_D Loss: -0.3312, WGAN_G Loss: -2.4235\n"
     ]
    },
    {
     "name": "stderr",
     "output_type": "stream",
     "text": [
      "Epoch 36/50: 100%|██████████| 782/782 [00:13<00:00, 57.72it/s, DCGAN_D=0.693, DCGAN_G=2.44, WGAN_D=-0.315, WGAN_G=-2.6] \n"
     ]
    },
    {
     "name": "stdout",
     "output_type": "stream",
     "text": [
      "Epoch [36/50] DCGAN_D Loss: 0.6932, DCGAN_G Loss: 2.4449, WGAN_D Loss: -0.3148, WGAN_G Loss: -2.5975\n"
     ]
    },
    {
     "name": "stderr",
     "output_type": "stream",
     "text": [
      "Epoch 37/50: 100%|██████████| 782/782 [00:13<00:00, 57.72it/s, DCGAN_D=0.69, DCGAN_G=2.45, WGAN_D=-0.308, WGAN_G=-2.28] \n"
     ]
    },
    {
     "name": "stdout",
     "output_type": "stream",
     "text": [
      "Epoch [37/50] DCGAN_D Loss: 0.6898, DCGAN_G Loss: 2.4503, WGAN_D Loss: -0.3077, WGAN_G Loss: -2.2773\n"
     ]
    },
    {
     "name": "stderr",
     "output_type": "stream",
     "text": [
      "Epoch 38/50: 100%|██████████| 782/782 [00:13<00:00, 57.74it/s, DCGAN_D=0.639, DCGAN_G=2.48, WGAN_D=-0.296, WGAN_G=-2.28]\n"
     ]
    },
    {
     "name": "stdout",
     "output_type": "stream",
     "text": [
      "Epoch [38/50] DCGAN_D Loss: 0.6393, DCGAN_G Loss: 2.4805, WGAN_D Loss: -0.2961, WGAN_G Loss: -2.2764\n"
     ]
    },
    {
     "name": "stderr",
     "output_type": "stream",
     "text": [
      "Epoch 39/50: 100%|██████████| 782/782 [00:13<00:00, 57.76it/s, DCGAN_D=0.663, DCGAN_G=2.47, WGAN_D=-0.277, WGAN_G=-2.14]\n"
     ]
    },
    {
     "name": "stdout",
     "output_type": "stream",
     "text": [
      "Epoch [39/50] DCGAN_D Loss: 0.6626, DCGAN_G Loss: 2.4740, WGAN_D Loss: -0.2771, WGAN_G Loss: -2.1385\n"
     ]
    },
    {
     "name": "stderr",
     "output_type": "stream",
     "text": [
      "Epoch 40/50: 100%|██████████| 782/782 [00:13<00:00, 57.69it/s, DCGAN_D=0.666, DCGAN_G=2.5, WGAN_D=-0.264, WGAN_G=-2.12] \n"
     ]
    },
    {
     "name": "stdout",
     "output_type": "stream",
     "text": [
      "Epoch [40/50] DCGAN_D Loss: 0.6662, DCGAN_G Loss: 2.5019, WGAN_D Loss: -0.2642, WGAN_G Loss: -2.1178\n"
     ]
    },
    {
     "name": "stderr",
     "output_type": "stream",
     "text": [
      "Epoch 41/50: 100%|██████████| 782/782 [00:13<00:00, 57.78it/s, DCGAN_D=0.621, DCGAN_G=2.55, WGAN_D=-0.253, WGAN_G=-2.27]\n"
     ]
    },
    {
     "name": "stdout",
     "output_type": "stream",
     "text": [
      "Epoch [41/50] DCGAN_D Loss: 0.6211, DCGAN_G Loss: 2.5468, WGAN_D Loss: -0.2532, WGAN_G Loss: -2.2654\n"
     ]
    },
    {
     "name": "stderr",
     "output_type": "stream",
     "text": [
      "Epoch 42/50: 100%|██████████| 782/782 [00:13<00:00, 57.77it/s, DCGAN_D=0.641, DCGAN_G=2.59, WGAN_D=-0.253, WGAN_G=-2.31]\n"
     ]
    },
    {
     "name": "stdout",
     "output_type": "stream",
     "text": [
      "Epoch [42/50] DCGAN_D Loss: 0.6415, DCGAN_G Loss: 2.5927, WGAN_D Loss: -0.2530, WGAN_G Loss: -2.3144\n"
     ]
    },
    {
     "name": "stderr",
     "output_type": "stream",
     "text": [
      "Epoch 43/50: 100%|██████████| 782/782 [00:13<00:00, 57.72it/s, DCGAN_D=0.617, DCGAN_G=2.6, WGAN_D=-0.252, WGAN_G=-2.44] \n"
     ]
    },
    {
     "name": "stdout",
     "output_type": "stream",
     "text": [
      "Epoch [43/50] DCGAN_D Loss: 0.6167, DCGAN_G Loss: 2.5991, WGAN_D Loss: -0.2515, WGAN_G Loss: -2.4370\n"
     ]
    },
    {
     "name": "stderr",
     "output_type": "stream",
     "text": [
      "Epoch 44/50: 100%|██████████| 782/782 [00:13<00:00, 57.81it/s, DCGAN_D=0.609, DCGAN_G=2.62, WGAN_D=-0.249, WGAN_G=-2.25]\n"
     ]
    },
    {
     "name": "stdout",
     "output_type": "stream",
     "text": [
      "Epoch [44/50] DCGAN_D Loss: 0.6085, DCGAN_G Loss: 2.6237, WGAN_D Loss: -0.2490, WGAN_G Loss: -2.2496\n"
     ]
    },
    {
     "name": "stderr",
     "output_type": "stream",
     "text": [
      "Epoch 45/50: 100%|██████████| 782/782 [00:13<00:00, 57.85it/s, DCGAN_D=0.621, DCGAN_G=2.66, WGAN_D=-0.25, WGAN_G=-2.22] \n"
     ]
    },
    {
     "name": "stdout",
     "output_type": "stream",
     "text": [
      "Epoch [45/50] DCGAN_D Loss: 0.6213, DCGAN_G Loss: 2.6579, WGAN_D Loss: -0.2502, WGAN_G Loss: -2.2168\n"
     ]
    },
    {
     "name": "stderr",
     "output_type": "stream",
     "text": [
      "Epoch 46/50: 100%|██████████| 782/782 [00:13<00:00, 57.95it/s, DCGAN_D=0.61, DCGAN_G=2.69, WGAN_D=-0.253, WGAN_G=-2.11] \n"
     ]
    },
    {
     "name": "stdout",
     "output_type": "stream",
     "text": [
      "Epoch [46/50] DCGAN_D Loss: 0.6099, DCGAN_G Loss: 2.6899, WGAN_D Loss: -0.2533, WGAN_G Loss: -2.1090\n"
     ]
    },
    {
     "name": "stderr",
     "output_type": "stream",
     "text": [
      "Epoch 47/50: 100%|██████████| 782/782 [00:13<00:00, 58.06it/s, DCGAN_D=0.587, DCGAN_G=2.72, WGAN_D=-0.251, WGAN_G=-1.97]\n"
     ]
    },
    {
     "name": "stdout",
     "output_type": "stream",
     "text": [
      "Epoch [47/50] DCGAN_D Loss: 0.5871, DCGAN_G Loss: 2.7217, WGAN_D Loss: -0.2506, WGAN_G Loss: -1.9747\n"
     ]
    },
    {
     "name": "stderr",
     "output_type": "stream",
     "text": [
      "Epoch 48/50: 100%|██████████| 782/782 [00:13<00:00, 58.11it/s, DCGAN_D=0.586, DCGAN_G=2.73, WGAN_D=-0.256, WGAN_G=-2.06]\n"
     ]
    },
    {
     "name": "stdout",
     "output_type": "stream",
     "text": [
      "Epoch [48/50] DCGAN_D Loss: 0.5862, DCGAN_G Loss: 2.7337, WGAN_D Loss: -0.2563, WGAN_G Loss: -2.0630\n"
     ]
    },
    {
     "name": "stderr",
     "output_type": "stream",
     "text": [
      "Epoch 49/50: 100%|██████████| 782/782 [00:13<00:00, 58.22it/s, DCGAN_D=0.583, DCGAN_G=2.75, WGAN_D=-0.25, WGAN_G=-2.12] \n"
     ]
    },
    {
     "name": "stdout",
     "output_type": "stream",
     "text": [
      "Epoch [49/50] DCGAN_D Loss: 0.5829, DCGAN_G Loss: 2.7502, WGAN_D Loss: -0.2504, WGAN_G Loss: -2.1189\n"
     ]
    },
    {
     "name": "stderr",
     "output_type": "stream",
     "text": [
      "Epoch 50/50: 100%|██████████| 782/782 [00:13<00:00, 58.23it/s, DCGAN_D=0.574, DCGAN_G=2.8, WGAN_D=-0.248, WGAN_G=-2.1]  \n"
     ]
    },
    {
     "name": "stdout",
     "output_type": "stream",
     "text": [
      "Epoch [50/50] DCGAN_D Loss: 0.5737, DCGAN_G Loss: 2.8040, WGAN_D Loss: -0.2482, WGAN_G Loss: -2.1045\n"
     ]
    }
   ],
   "source": [
    "from tqdm import tqdm\n",
    "import numpy as np\n",
    "\n",
    "# Initialize lists to track epoch-wise data\n",
    "dcgan_losses_D, dcgan_losses_G = [], []\n",
    "wgan_losses_D, wgan_losses_G = [], []\n",
    "dcgan_real_scores, dcgan_fake_scores = [], []\n",
    "wgan_real_scores, wgan_fake_scores = [], []\n",
    "\n",
    "print(\"Starting Training...\")\n",
    "for epoch in range(num_epochs):\n",
    "    dcgan_epoch_losses_D, dcgan_epoch_losses_G = [], []\n",
    "    wgan_epoch_losses_D, wgan_epoch_losses_G = [], []\n",
    "    dcgan_epoch_real_scores, dcgan_epoch_fake_scores = [], []\n",
    "    wgan_epoch_real_scores, wgan_epoch_fake_scores = [], []\n",
    "\n",
    "    with tqdm(enumerate(dataloader), total=len(dataloader), desc=f\"Epoch {epoch+1}/{num_epochs}\") as pbar:\n",
    "        for i, data in pbar:\n",
    "            real_images = data[0].to(device)\n",
    "            b_size = real_images.size(0)\n",
    "\n",
    "            # --- DCGAN Training ---\n",
    "            # Update Discriminator\n",
    "            dcgan_D.zero_grad()\n",
    "            labels = torch.full((b_size,), 1., device=device)\n",
    "            output_real = dcgan_D(real_images).view(-1)\n",
    "            loss_real = criterion(output_real, labels)\n",
    "            loss_real.backward()\n",
    "\n",
    "            noise = torch.randn(b_size, latent_dim, 1, 1, device=device)\n",
    "            fake_images = dcgan_G(noise)\n",
    "            labels.fill_(0.)\n",
    "            output_fake = dcgan_D(fake_images.detach()).view(-1)\n",
    "            loss_fake = criterion(output_fake, labels)\n",
    "            loss_fake.backward()\n",
    "            dcgan_optimizerD.step()\n",
    "\n",
    "            # Update Generator\n",
    "            dcgan_G.zero_grad()\n",
    "            labels.fill_(1.)\n",
    "            output_fake = dcgan_D(fake_images).view(-1)\n",
    "            loss_G = criterion(output_fake, labels)\n",
    "            loss_G.backward()\n",
    "            dcgan_optimizerG.step()\n",
    "\n",
    "            # Store losses and scores\n",
    "            dcgan_epoch_losses_D.append(loss_real.item() + loss_fake.item())\n",
    "            dcgan_epoch_losses_G.append(loss_G.item())\n",
    "            dcgan_epoch_real_scores.extend(output_real.detach().cpu().numpy())\n",
    "            dcgan_epoch_fake_scores.extend(output_fake.detach().cpu().numpy())\n",
    "\n",
    "            # --- WGAN-GP Training ---\n",
    "            # Update Discriminator (Critic)\n",
    "            wgan_D.zero_grad()\n",
    "            real_loss = -torch.mean(wgan_D(real_images))\n",
    "            fake_images = wgan_G(noise)\n",
    "            fake_loss = torch.mean(wgan_D(fake_images.detach()))\n",
    "            loss_critic = real_loss + fake_loss\n",
    "            loss_critic.backward()\n",
    "            wgan_optimizerD.step()\n",
    "\n",
    "            # Clip weights of discriminator \n",
    "            for p in wgan_D.parameters():\n",
    "                p.data.clamp_(-0.01, 0.01)\n",
    "\n",
    "            # Update Generator every 5 steps\n",
    "            if i % 5 == 0:\n",
    "                wgan_G.zero_grad()\n",
    "                loss_gen = -torch.mean(wgan_D(fake_images))\n",
    "                loss_gen.backward()\n",
    "                wgan_optimizerG.step()\n",
    "                wgan_epoch_losses_G.append(loss_gen.item())\n",
    "\n",
    "            # Store losses and scores\n",
    "            wgan_epoch_losses_D.append(loss_critic.item())\n",
    "            wgan_epoch_real_scores.extend(wgan_D(real_images).detach().cpu().numpy())\n",
    "            wgan_epoch_fake_scores.extend(wgan_D(fake_images).detach().cpu().numpy())\n",
    "\n",
    "            # Update progress bar\n",
    "            pbar.set_postfix(DCGAN_D=np.mean(dcgan_epoch_losses_D), DCGAN_G=np.mean(dcgan_epoch_losses_G),\n",
    "                             WGAN_D=np.mean(wgan_epoch_losses_D), WGAN_G=np.mean(wgan_epoch_losses_G))\n",
    "\n",
    "    # Store epoch-wise average losses and scores\n",
    "    dcgan_losses_D.append(np.mean(dcgan_epoch_losses_D))\n",
    "    dcgan_losses_G.append(np.mean(dcgan_epoch_losses_G))\n",
    "    wgan_losses_D.append(np.mean(wgan_epoch_losses_D))\n",
    "    wgan_losses_G.append(np.mean(wgan_epoch_losses_G))\n",
    "    dcgan_real_scores.append(np.mean(dcgan_epoch_real_scores))\n",
    "    dcgan_fake_scores.append(np.mean(dcgan_epoch_fake_scores))\n",
    "    wgan_real_scores.append(np.mean(wgan_epoch_real_scores))\n",
    "    wgan_fake_scores.append(np.mean(wgan_epoch_fake_scores))\n",
    "\n",
    "    # Print epoch results\n",
    "    print(f\"Epoch [{epoch+1}/{num_epochs}] DCGAN_D Loss: {dcgan_losses_D[-1]:.4f}, \"\n",
    "          f\"DCGAN_G Loss: {dcgan_losses_G[-1]:.4f}, WGAN_D Loss: {wgan_losses_D[-1]:.4f}, \"\n",
    "          f\"WGAN_G Loss: {wgan_losses_G[-1]:.4f}\")\n"
   ]
  },
  {
   "cell_type": "code",
   "execution_count": 6,
   "id": "9df1bcf6-2640-4302-a163-f0906d5b0468",
   "metadata": {
    "tags": []
   },
   "outputs": [
    {
     "data": {
      "image/png": "[encoded data removed]",
      "text/plain": [
       "<Figure size 1600x1000 with 2 Axes>"
      ]
     },
     "metadata": {},
     "output_type": "display_data"
    }
   ],
   "source": [
    "# Ensure scores are 1D for plotting\n",
    "dcgan_epoch_real_scores = [score.squeeze().item() for score in dcgan_real_scores]\n",
    "dcgan_epoch_fake_scores = [score.squeeze().item() for score in dcgan_fake_scores]\n",
    "wgan_epoch_real_scores = [score.squeeze().item() for score in wgan_real_scores]\n",
    "wgan_epoch_fake_scores = [score.squeeze().item() for score in wgan_fake_scores]\n",
    "\n",
    "plt.figure(figsize=(16, 10))\n",
    "\n",
    "# Plot Real vs. Fake Scores for DCGAN\n",
    "plt.subplot(2, 1, 1)\n",
    "plt.plot(dcgan_epoch_real_scores, label='DCGAN Real Scores', color='blue', alpha=0.7)\n",
    "plt.plot(dcgan_epoch_fake_scores, label='DCGAN Fake Scores', color='orange', alpha=0.7)\n",
    "plt.xlabel('Epochs')\n",
    "plt.ylabel('Scores')\n",
    "plt.title('DCGAN Real vs. Fake Scores')\n",
    "plt.legend()\n",
    "\n",
    "\n",
    "# Plot Real vs. Fake Scores for WGAN\n",
    "plt.subplot(2, 1, 2)\n",
    "plt.plot(wgan_epoch_real_scores, label='WGAN Real Scores', color='green', alpha=0.7)\n",
    "plt.plot(wgan_epoch_fake_scores, label='WGAN Fake Scores', color='red', alpha=0.7)\n",
    "plt.xlabel('Epochs')\n",
    "plt.ylabel('Scores')\n",
    "plt.title('WGAN Real vs. Fake Scores')\n",
    "plt.legend()\n",
    "\n",
    "plt.tight_layout()\n",
    "plt.show()\n"
   ]
  },
  {
   "cell_type": "code",
   "execution_count": 15,
   "id": "585f71ed-aff5-4c3e-9b18-19b8a7454937",
   "metadata": {
    "tags": []
   },
   "outputs": [
    {
     "name": "stdout",
     "output_type": "stream",
     "text": [
      "Best 10 images saved for DCGAN and WGAN.\n"
     ]
    }
   ],
   "source": [
    "# Parameters\n",
    "images_to_save = 10  # Number of best images to save\n",
    "latent_dim = 100  # Latent vector size\n",
    "\n",
    "# Placeholder for the best images\n",
    "dcgan_best_images = []\n",
    "wgan_best_images = []\n",
    "\n",
    "# Generate noise\n",
    "noise = torch.randn(images_to_save * 10, latent_dim, 1, 1, device=device)\n",
    "\n",
    "# Generate and score images for DCGAN\n",
    "with torch.no_grad():\n",
    "    dcgan_fake_images = dcgan_G(noise)\n",
    "    dcgan_scores = dcgan_D(dcgan_fake_images).view(-1).cpu().numpy()  # Discriminator's score for each fake image\n",
    "    top_dcgan_indices = dcgan_scores.argsort()[-images_to_save:][::-1]  # Sorting in descending order\n",
    "    # Avoid negative strides\n",
    "    top_dcgan_indices_copy = top_dcgan_indices.copy()  # Ensures no negative strides\n",
    "    # Convert the copied indices to tensor\n",
    "    top_dcgan_indices_tensor = torch.tensor(top_dcgan_indices_copy, dtype=torch.long, device=device)\n",
    "    top_dcgan_images = dcgan_fake_images[top_dcgan_indices_tensor]  # Indexing directly with tensor\n",
    "    dcgan_best_images.extend(top_dcgan_images)\n",
    "\n",
    "# Generate and score images for WGAN\n",
    "with torch.no_grad():\n",
    "    wgan_fake_images = wgan_G(noise)\n",
    "    wgan_scores = wgan_D(wgan_fake_images).view(-1).cpu().numpy()  # Discriminator's score for each fake image\n",
    "    top_wgan_indices = wgan_scores.argsort()[-images_to_save:][::-1]  # Sorting in descending order\n",
    "    # Avoid negative strides\n",
    "    top_wgan_indices_copy = top_wgan_indices.copy()  # Ensures no negative strides\n",
    "    # Convert the copied indices to tensor\n",
    "    top_wgan_indices_tensor = torch.tensor(top_wgan_indices_copy, dtype=torch.long, device=device)\n",
    "    top_wgan_images = wgan_fake_images[top_wgan_indices_tensor]  # Indexing directly with tensor\n",
    "    wgan_best_images.extend(top_wgan_images)\n",
    "\n",
    "# Combine the best images for each model\n",
    "dcgan_best_images_tensor = torch.stack(dcgan_best_images)\n",
    "wgan_best_images_tensor = torch.stack(wgan_best_images)\n",
    "\n",
    "# Create and save grids for each model\n",
    "dcgan_grid = vutils.make_grid(dcgan_best_images_tensor, nrow=10, padding=2, normalize=True)\n",
    "wgan_grid = vutils.make_grid(wgan_best_images_tensor, nrow=10, padding=2, normalize=True)\n",
    "\n",
    "# Save the image grids\n",
    "vutils.save_image(dcgan_grid, \"dcgan_best_images.png\")\n",
    "vutils.save_image(wgan_grid, \"wgan_best_images.png\")\n",
    "\n",
    "print(\"Best 10 images saved for DCGAN and WGAN.\")\n"
   ]
  },
  {
   "cell_type": "code",
   "execution_count": 8,
   "id": "f934ef17-c4f4-4e20-a164-3b4849820d44",
   "metadata": {
    "tags": []
   },
   "outputs": [
    {
     "data": {
      "image/png": "[encoded data removed]",
      "text/plain": [
       "<Figure size 1200x600 with 2 Axes>"
      ]
     },
     "metadata": {},
     "output_type": "display_data"
    }
   ],
   "source": [
    "# Plot Generator vs. Discriminator losses for DCGAN and WGAN\n",
    "plt.figure(figsize=(12, 6))\n",
    "\n",
    "# DCGAN Losses\n",
    "plt.subplot(1, 2, 1)\n",
    "plt.plot(dcgan_losses_G, label='DCGAN Generator Loss', alpha=0.7)\n",
    "plt.plot(dcgan_losses_D, label='DCGAN Discriminator Loss', alpha=0.7)\n",
    "plt.xlabel('Iterations')\n",
    "plt.ylabel('Loss')\n",
    "plt.title('DCGAN Generator vs Discriminator Loss')\n",
    "plt.legend()\n",
    "\n",
    "# WGAN Losses\n",
    "plt.subplot(1, 2, 2)\n",
    "plt.plot(wgan_losses_G, label='WGAN Generator Loss', alpha=0.7)\n",
    "plt.plot(wgan_losses_D, label='WGAN Discriminator Loss', alpha=0.7)\n",
    "plt.xlabel('Iterations')\n",
    "plt.ylabel('Loss')\n",
    "plt.title('WGAN Generator vs Discriminator Loss')\n",
    "plt.legend()\n",
    "\n",
    "plt.tight_layout()\n",
    "plt.show()\n"
   ]
  },
  {
   "cell_type": "code",
   "execution_count": null,
   "id": "7f58b5db-e44e-42d2-9c0d-d7b2339180cb",
   "metadata": {},
   "outputs": [],
   "source": []
  }
 ],
 "metadata": {
  "kernelspec": {
   "display_name": "Python 3 (ipykernel)",
   "language": "python",
   "name": "python3"
  },
  "language_info": {
   "codemirror_mode": {
    "name": "ipython",
    "version": 3
   },
   "file_extension": ".py",
   "mimetype": "text/x-python",
   "name": "python",
   "nbconvert_exporter": "python",
   "pygments_lexer": "ipython3",
   "version": "3.11.5"
  }
 },
 "nbformat": 4,
 "nbformat_minor": 5
}
